{
  "cells": [
    {
      "metadata": {
        "collapsed": true,
        "trusted": false
      },
      "cell_type": "code",
      "source": "import numpy as np\nimport pandas as pd\nimport seaborn as sns\nimport matplotlib.pyplot as plt\nfrom datetime import datetime\nimport dateutil.parser\nimport re",
      "execution_count": null,
      "outputs": []
    },
    {
      "metadata": {
        "trusted": true
      },
      "cell_type": "code",
      "source": "# El siguiente comando significa que la salida de varios comandos en una celda se emitirá de una vez\nfrom IPython.core.interactiveshell import InteractiveShell\nInteractiveShell.ast_node_interactivity = \"all\"\n\n# El siguiente comando le dice a jupyter que muestre hasta 80 columnas, esto mantiene todo visible\npd.set_option('display.max_columns', 80)\npd.set_option('expand_frame_repr', True)\n\n# Muestra las figuras en el notebook\n%matplotlib inline",
      "execution_count": null,
      "outputs": []
    },
    {
      "metadata": {
        "trusted": true
      },
      "cell_type": "code",
      "source": "#BUSCAR EL ARCHIVO A CARGAR. la carpeta \"data\" debe estar en el mismo folder del proyecto creado en Azure. Experiment11.csv es el archivo a leer\ndf = pd.read_csv(\"data/Experiment1.csv\")",
      "execution_count": null,
      "outputs": []
    },
    {
      "metadata": {
        "trusted": true
      },
      "cell_type": "code",
      "source": "#ANALISIS EXPLORATORIO DE DATOS\n#En la celda de abajo, tomamos una muestra aleatoria de 2 filas para tener una idea de los datos.\ndf.sample(n=2)\n# Aquí están todas las columnas.\ndf.columns.tolist()\n# Encuentra el dtype, también conocido como tipo de datos, para una columna\ndf['id_number'].dtype\n#Muestra la tabla completa de datos\ndf.head()\n#crear nueva columna con la suma de dos de estas\ndf['new'] = df['W'] + df['Y']\n#eliminando columnas\ndf.drop('new',axis=1) #axis=0 index #inplace = True\n#eliminar fila \"E\"\ndf.drop('E',axis=0)\n#cambiar nombre a columna\nnames = df.columns.tolist()\nnames[names.index('two')] = 'new_name'\ndf.columns = names\n#cambiar nombre a varias columnas (ej: de \"\"$a\" cambiar a \"a\")\ndf.rename({'$a':'a', '$b':'b', '$c':'c', '$d':'d', '$e':'e'}, axis='columns')",
      "execution_count": null,
      "outputs": []
    },
    {
      "metadata": {
        "trusted": true
      },
      "cell_type": "code",
      "source": "#Detectar si faltan datos \n#Crea una nueva función:\ndef num_missing(x):\n    return sum(x.isnull())\n\n#Aplicándola por columna:\nprint(\"Valores faltantes por columna:\")\n## Comprueba cuántos faltan por columna y luego verifica cuáles tienen los valores faltantes\nprint(df.apply(num_missing, axis=0).where(lambda x : x != 0).dropna().head(20)) \n#axis=0 Define que la función se aplica en cada columna.\nprint(f'Hay {df.shape[0]} observaciones y {df.shape[1]} características')\n#ver cuantas observaciones (datos) y caracteristicas (columnas) hay",
      "execution_count": null,
      "outputs": []
    },
    {
      "metadata": {
        "trusted": true
      },
      "cell_type": "code",
      "source": "#El comando \"describe\" a continuación proporciona estadísticas de resumen clave para cada columna numérica.\ndf.describe()",
      "execution_count": null,
      "outputs": []
    },
    {
      "metadata": {
        "trusted": true
      },
      "cell_type": "code",
      "source": "#Extraer variables continuas del conjunto de datos\nnumeric_vars = df.select_dtypes(include=[np.number]).columns.tolist()\nfor variable in numeric_vars:\n    print(variable)\n#Graficar el comportamiento de dos variables 'lender count' y 'loan amount'\nax = sns.regplot(x='lender_count', y='loan_amount', data=df)\n\n# Vamos a elegir sólo un par de columnas para examinar:\ncolumns = ['loan_amount', 'funded_amount',  'status']\nnum_df = df[columns]\n\n# Quita las filas de NaN para que Seaborn pueda graficar\nnum_df = num_df.dropna(axis=0, how='any')\n\n# Crea el diagrama de dispersión y colorea los puntos de datos por su estado.\nsns.pairplot(num_df, hue='status');\n#mostrar a tabla para las tres columnas seleccionadas\nnum_df\n\n#Histograma de columna 'loan amount'\nsns.distplot(df['loan_amount'].dropna(axis = 0));\n# Echemos un vistazo a los menores de 5K ya que estan mas acumulados acá\nsmall_loans_df = df[(df['loan_amount'] < 5000)]\nsns.distplot(small_loans_df['loan_amount']);\n\n#Graficos de barra de variable 'loan amount' por 'sector' segun el promedio\np = sns.barplot(x='sector', y = 'loan_amount', data=df, estimator=np.mean);\np.set(title='Average loan amount by sector')\np.set_xticklabels(p.get_xticklabels(), rotation=-45);\n#Graficos de barra de variable 'loan amount' por 'sector' segun la suma total de datos del sector\np = sns.barplot(x='sector', y = 'loan_amount', data=df, estimator=np.sum);\np.set(title='Total loan amount by sector')\np.set_xticklabels(p.get_xticklabels(), rotation=-45);\n\n#Diagramas de caja para el sector retail\ndf_retail = df[df.sector=='Retail']\ndf_retail.head()\n#Arriba se prepara la tabla de datos y abajo se muestra la grafica\nsector = 'Retail'\ndf_retail = df[df.sector==sector]\np = sns.boxplot(x='sector', \n                y='loan_amount',\n                data=df_retail);\np.set(title = f'Loan amounts for {sector}');\np.set_xticklabels(p.get_xticklabels(), rotation=-45);\n\n#Graficar una variable segun el tiempo\n# Convertir la fecha publicada en un objeto datetime\ntime_column = 'funded_date'\ndf[time_column] = pd.to_datetime(df[time_column])\n\n# Volver a muestrear la fecha en intervalos mensuales, tomando el promedio de loan_amount\n# Esto crea una matriz donde el índice es la marca de tiempo y el valor es el promedio del monto del préstamo\ntime_data = df.resample('M', on=time_column)['loan_amount'].mean().fillna(0)\nfig, ax = plt.subplots(figsize=(15,8))\nax.plot(time_data)\nplt.title('Promedio de loan_amount en el tiempo');\n# Volver a muestrear la fecha en intervalos semanales, tomando el promedio de loan_amount\n# Esto crea una matriz donde el índice es la marca de tiempo y el valor es el promedio del monto del préstamo\ntime_data = df.resample('7D', on=time_column)['loan_amount'].mean().fillna(0)\nfig, ax = plt.subplots(figsize=(15,8))\nax.plot(time_data)\nplt.title('Mean loan_amount over time');",
      "execution_count": null,
      "outputs": []
    },
    {
      "metadata": {
        "trusted": true
      },
      "cell_type": "code",
      "source": "#INGENIERIA DE CARACTERISTICAS\n#eliminar todas las caracteristicas que tengan una sola observacion\nfor col in df.columns:\n    if df[col].unique().size==1:\n        print(\"Dropping column: {0}\".format(col))\n        df = df.drop(col, axis=1)\n#convertir strings a datos de fecha y hora. Todas las columnas que contengan '_date' (en otro conjunto de datos debería tener otro nombre) seran convertidas.\nfor col in [c for c in df.columns if \"_date\" in c]:\n    if \"_date\" in col:\n        df[col] = pd.to_datetime(df[col])\n# This is temporally commented out if we really want to date based analysis\n\n# ##  posted date features\n# df['posted_year']=df['posted_date'].dt.year\n# df['posted_month']=df['posted_date'].dt.month\n\n# ## Time to fund is the funded date minus the posted date\n# ## we add these fields because the homework question in the next notebook involves predicting time to fund\n# df['time_to_fund'] =df['funded_date'] - df['posted_date']\n# df['days_to_fund'] = df['time_to_fund'].dt.days\n\n# # expiration date features\n# ## Time to expiration is the expiration date minus the Posted Date\n# df['time_to_expire_date'] =df['planned_expiration_date'] - df['posted_date']\n# df['days_to_expire'] = df['time_to_expire_date'].dt.days\n\n#get_dtype_counts para ver qué tipos de datos existen en el dataframe\ndf.get_dtype_counts()\n#select_dtypes para ver todas las columnas con dtype == object\ndf.select_dtypes(include=[object])\n#Tal vez la longitud de la descripción del texto podría ayudarnos para revisar la variable 'description length'\ndf['description_length']  = df.description.str.len()\ndf['description_length'].tail()\n\n#Limpieza de datos\n#repaso rápido de los tipos de datos en nuestro dataframe\ndf.get_dtype_counts()\n#creemos listas de todas las columnas para tipos de datos específicos (clumna de tiempo: datatime64, etc; columan strings: objetc; columna numerica: todos menos los anteriores declarados en las doscolumnas anteriores)\ntime_columns = df.select_dtypes(include=['datetime64','timedelta64']).columns\nstr_columns = df.select_dtypes(include=[object]).columns\nnumeric_columns = df.select_dtypes(exclude=[object,'datetime64','timedelta64']).columns\n#ver cuantas observaciones faltan en la columna de tiempo\nf[time_columns].isnull().sum()[df[time_columns].isnull().sum()>0]\n#Con los datos faltantes, siempre se debe verificar si hay una diferencia sistémica entre las observaciones con y sin datos faltantes.\n#Con:\ndf[df['funded_date'].isnull()].describe()\n#Sin los datos faltantes\ndf[~df['funded_date'].isnull()].describe()\n#lo anterior se podria graficar para comparar diferecia sistemica\n#Cree columnas que indiquen si faltan datos o no (solo con datos numericos):\nfor col in numeric_columns:\n    df[col+'_na'] = pd.isnull(df[col])\n#Impute los datos faltantes con la media\ndf[numeric_columns] = df[numeric_columns].fillna(df[numeric_columns].mean())\n#Ahora que hemos terminado de crear todas nuestras características, podemos continuar guardando nuestros resultados en un nuevo csv.\ndf.to_csv(\"../data/loans_additional_features.csv\", index=False) \n",
      "execution_count": null,
      "outputs": []
    }
  ],
  "metadata": {
    "kernelspec": {
      "name": "python36",
      "display_name": "Python 3.6",
      "language": "python"
    },
    "language_info": {
      "mimetype": "text/x-python",
      "nbconvert_exporter": "python",
      "name": "python",
      "pygments_lexer": "ipython3",
      "version": "3.6.6",
      "file_extension": ".py",
      "codemirror_mode": {
        "version": 3,
        "name": "ipython"
      }
    }
  },
  "nbformat": 4,
  "nbformat_minor": 2
}